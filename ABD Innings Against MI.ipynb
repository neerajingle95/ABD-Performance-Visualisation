{
 "cells": [
  {
   "cell_type": "markdown",
   "id": "9742acf0",
   "metadata": {},
   "source": [
    "# 1. Importing libraries"
   ]
  },
  {
   "cell_type": "code",
   "execution_count": 1,
   "id": "4d71c53b",
   "metadata": {},
   "outputs": [],
   "source": [
    "import math\n",
    "import pandas as pd\n",
    "import numpy as np\n",
    "\n",
    "import warnings\n",
    "warnings.filterwarnings('ignore')\n",
    "\n",
    "pd.set_option('display.max_columns', None)\n",
    "pd.set_option('display.expand_frame_repr', False)\n",
    "pd.set_option('max_colwidth', -1)"
   ]
  },
  {
   "cell_type": "markdown",
   "id": "df4e5810",
   "metadata": {},
   "source": [
    "# 2. Getting the data"
   ]
  },
  {
   "cell_type": "code",
   "execution_count": 2,
   "id": "794abfe2",
   "metadata": {},
   "outputs": [
    {
     "data": {
      "text/html": [
       "<div>\n",
       "<style scoped>\n",
       "    .dataframe tbody tr th:only-of-type {\n",
       "        vertical-align: middle;\n",
       "    }\n",
       "\n",
       "    .dataframe tbody tr th {\n",
       "        vertical-align: top;\n",
       "    }\n",
       "\n",
       "    .dataframe thead th {\n",
       "        text-align: right;\n",
       "    }\n",
       "</style>\n",
       "<table border=\"1\" class=\"dataframe\">\n",
       "  <thead>\n",
       "    <tr style=\"text-align: right;\">\n",
       "      <th></th>\n",
       "      <th>match_id</th>\n",
       "      <th>inning</th>\n",
       "      <th>batting_team</th>\n",
       "      <th>bowling_team</th>\n",
       "      <th>over</th>\n",
       "      <th>ball</th>\n",
       "      <th>batsman</th>\n",
       "      <th>non_striker</th>\n",
       "      <th>bowler</th>\n",
       "      <th>is_super_over</th>\n",
       "      <th>wide_runs</th>\n",
       "      <th>bye_runs</th>\n",
       "      <th>legbye_runs</th>\n",
       "      <th>noball_runs</th>\n",
       "      <th>penalty_runs</th>\n",
       "      <th>batsman_runs</th>\n",
       "      <th>extra_runs</th>\n",
       "      <th>total_runs</th>\n",
       "      <th>player_dismissed</th>\n",
       "      <th>dismissal_kind</th>\n",
       "      <th>fielder</th>\n",
       "    </tr>\n",
       "  </thead>\n",
       "  <tbody>\n",
       "    <tr>\n",
       "      <th>0</th>\n",
       "      <td>1</td>\n",
       "      <td>1</td>\n",
       "      <td>Sunrisers Hyderabad</td>\n",
       "      <td>Royal Challengers Bangalore</td>\n",
       "      <td>1</td>\n",
       "      <td>1</td>\n",
       "      <td>DA Warner</td>\n",
       "      <td>S Dhawan</td>\n",
       "      <td>TS Mills</td>\n",
       "      <td>0</td>\n",
       "      <td>0</td>\n",
       "      <td>0</td>\n",
       "      <td>0</td>\n",
       "      <td>0</td>\n",
       "      <td>0</td>\n",
       "      <td>0</td>\n",
       "      <td>0</td>\n",
       "      <td>0</td>\n",
       "      <td>NaN</td>\n",
       "      <td>NaN</td>\n",
       "      <td>NaN</td>\n",
       "    </tr>\n",
       "    <tr>\n",
       "      <th>1</th>\n",
       "      <td>1</td>\n",
       "      <td>1</td>\n",
       "      <td>Sunrisers Hyderabad</td>\n",
       "      <td>Royal Challengers Bangalore</td>\n",
       "      <td>1</td>\n",
       "      <td>2</td>\n",
       "      <td>DA Warner</td>\n",
       "      <td>S Dhawan</td>\n",
       "      <td>TS Mills</td>\n",
       "      <td>0</td>\n",
       "      <td>0</td>\n",
       "      <td>0</td>\n",
       "      <td>0</td>\n",
       "      <td>0</td>\n",
       "      <td>0</td>\n",
       "      <td>0</td>\n",
       "      <td>0</td>\n",
       "      <td>0</td>\n",
       "      <td>NaN</td>\n",
       "      <td>NaN</td>\n",
       "      <td>NaN</td>\n",
       "    </tr>\n",
       "  </tbody>\n",
       "</table>\n",
       "</div>"
      ],
      "text/plain": [
       "   match_id  inning         batting_team                 bowling_team  over  ball    batsman non_striker    bowler  is_super_over  wide_runs  bye_runs  legbye_runs  noball_runs  penalty_runs  batsman_runs  extra_runs  total_runs player_dismissed dismissal_kind fielder\n",
       "0  1         1       Sunrisers Hyderabad  Royal Challengers Bangalore  1     1     DA Warner  S Dhawan    TS Mills  0              0          0         0            0            0             0             0           0           NaN              NaN            NaN   \n",
       "1  1         1       Sunrisers Hyderabad  Royal Challengers Bangalore  1     2     DA Warner  S Dhawan    TS Mills  0              0          0         0            0            0             0             0           0           NaN              NaN            NaN   "
      ]
     },
     "execution_count": 2,
     "metadata": {},
     "output_type": "execute_result"
    }
   ],
   "source": [
    "deliveries = pd.read_csv('C:/Users/neera/Mad About Sports/Advanced Cricket Analytics Masterclass/Datasets/deliveries.csv')\n",
    "deliveries.head(2)"
   ]
  },
  {
   "cell_type": "code",
   "execution_count": 3,
   "id": "0bf3f1a1",
   "metadata": {},
   "outputs": [
    {
     "data": {
      "text/html": [
       "<div>\n",
       "<style scoped>\n",
       "    .dataframe tbody tr th:only-of-type {\n",
       "        vertical-align: middle;\n",
       "    }\n",
       "\n",
       "    .dataframe tbody tr th {\n",
       "        vertical-align: top;\n",
       "    }\n",
       "\n",
       "    .dataframe thead th {\n",
       "        text-align: right;\n",
       "    }\n",
       "</style>\n",
       "<table border=\"1\" class=\"dataframe\">\n",
       "  <thead>\n",
       "    <tr style=\"text-align: right;\">\n",
       "      <th></th>\n",
       "      <th>id</th>\n",
       "      <th>season</th>\n",
       "      <th>city</th>\n",
       "      <th>date</th>\n",
       "      <th>team1</th>\n",
       "      <th>team2</th>\n",
       "      <th>toss_winner</th>\n",
       "      <th>toss_decision</th>\n",
       "      <th>result</th>\n",
       "      <th>dl_applied</th>\n",
       "      <th>winner</th>\n",
       "      <th>win_by_runs</th>\n",
       "      <th>win_by_wickets</th>\n",
       "      <th>player_of_match</th>\n",
       "      <th>venue</th>\n",
       "      <th>umpire1</th>\n",
       "      <th>umpire2</th>\n",
       "      <th>umpire3</th>\n",
       "    </tr>\n",
       "  </thead>\n",
       "  <tbody>\n",
       "    <tr>\n",
       "      <th>0</th>\n",
       "      <td>1</td>\n",
       "      <td>2017</td>\n",
       "      <td>Hyderabad</td>\n",
       "      <td>2017-04-05</td>\n",
       "      <td>Sunrisers Hyderabad</td>\n",
       "      <td>Royal Challengers Bangalore</td>\n",
       "      <td>Royal Challengers Bangalore</td>\n",
       "      <td>field</td>\n",
       "      <td>normal</td>\n",
       "      <td>0</td>\n",
       "      <td>Sunrisers Hyderabad</td>\n",
       "      <td>35</td>\n",
       "      <td>0</td>\n",
       "      <td>Yuvraj Singh</td>\n",
       "      <td>Rajiv Gandhi International Stadium, Uppal</td>\n",
       "      <td>AY Dandekar</td>\n",
       "      <td>NJ Llong</td>\n",
       "      <td>NaN</td>\n",
       "    </tr>\n",
       "    <tr>\n",
       "      <th>1</th>\n",
       "      <td>2</td>\n",
       "      <td>2017</td>\n",
       "      <td>Pune</td>\n",
       "      <td>2017-04-06</td>\n",
       "      <td>Mumbai Indians</td>\n",
       "      <td>Rising Pune Supergiant</td>\n",
       "      <td>Rising Pune Supergiant</td>\n",
       "      <td>field</td>\n",
       "      <td>normal</td>\n",
       "      <td>0</td>\n",
       "      <td>Rising Pune Supergiant</td>\n",
       "      <td>0</td>\n",
       "      <td>7</td>\n",
       "      <td>SPD Smith</td>\n",
       "      <td>Maharashtra Cricket Association Stadium</td>\n",
       "      <td>A Nand Kishore</td>\n",
       "      <td>S Ravi</td>\n",
       "      <td>NaN</td>\n",
       "    </tr>\n",
       "  </tbody>\n",
       "</table>\n",
       "</div>"
      ],
      "text/plain": [
       "   id  season       city        date                team1                        team2                  toss_winner toss_decision  result  dl_applied                  winner  win_by_runs  win_by_wickets player_of_match                                      venue         umpire1   umpire2  umpire3\n",
       "0  1   2017    Hyderabad  2017-04-05  Sunrisers Hyderabad  Royal Challengers Bangalore  Royal Challengers Bangalore  field         normal  0           Sunrisers Hyderabad     35           0               Yuvraj Singh    Rajiv Gandhi International Stadium, Uppal  AY Dandekar     NJ Llong NaN     \n",
       "1  2   2017    Pune       2017-04-06  Mumbai Indians       Rising Pune Supergiant       Rising Pune Supergiant       field         normal  0           Rising Pune Supergiant  0            7               SPD Smith       Maharashtra Cricket Association Stadium    A Nand Kishore  S Ravi   NaN     "
      ]
     },
     "execution_count": 3,
     "metadata": {},
     "output_type": "execute_result"
    }
   ],
   "source": [
    "matches = pd.read_csv('C:/Users/neera/Mad About Sports/Advanced Cricket Analytics Masterclass/Datasets/matches.csv')\n",
    "matches.head(2)"
   ]
  },
  {
   "cell_type": "markdown",
   "id": "8d3188a5",
   "metadata": {},
   "source": [
    "# 3. Getting the match id for the particular match"
   ]
  },
  {
   "cell_type": "code",
   "execution_count": 4,
   "id": "8c0902a0",
   "metadata": {},
   "outputs": [
    {
     "data": {
      "text/html": [
       "<div>\n",
       "<style scoped>\n",
       "    .dataframe tbody tr th:only-of-type {\n",
       "        vertical-align: middle;\n",
       "    }\n",
       "\n",
       "    .dataframe tbody tr th {\n",
       "        vertical-align: top;\n",
       "    }\n",
       "\n",
       "    .dataframe thead th {\n",
       "        text-align: right;\n",
       "    }\n",
       "</style>\n",
       "<table border=\"1\" class=\"dataframe\">\n",
       "  <thead>\n",
       "    <tr style=\"text-align: right;\">\n",
       "      <th></th>\n",
       "      <th>id</th>\n",
       "      <th>season</th>\n",
       "      <th>city</th>\n",
       "      <th>date</th>\n",
       "      <th>team1</th>\n",
       "      <th>team2</th>\n",
       "      <th>toss_winner</th>\n",
       "      <th>toss_decision</th>\n",
       "      <th>result</th>\n",
       "      <th>dl_applied</th>\n",
       "      <th>winner</th>\n",
       "      <th>win_by_runs</th>\n",
       "      <th>win_by_wickets</th>\n",
       "      <th>player_of_match</th>\n",
       "      <th>venue</th>\n",
       "      <th>umpire1</th>\n",
       "      <th>umpire2</th>\n",
       "      <th>umpire3</th>\n",
       "    </tr>\n",
       "  </thead>\n",
       "  <tbody>\n",
       "    <tr>\n",
       "      <th>561</th>\n",
       "      <td>562</td>\n",
       "      <td>2015</td>\n",
       "      <td>Mumbai</td>\n",
       "      <td>2015-05-10</td>\n",
       "      <td>Royal Challengers Bangalore</td>\n",
       "      <td>Mumbai Indians</td>\n",
       "      <td>Royal Challengers Bangalore</td>\n",
       "      <td>bat</td>\n",
       "      <td>normal</td>\n",
       "      <td>0</td>\n",
       "      <td>Royal Challengers Bangalore</td>\n",
       "      <td>39</td>\n",
       "      <td>0</td>\n",
       "      <td>AB de Villiers</td>\n",
       "      <td>Wankhede Stadium</td>\n",
       "      <td>JD Cloete</td>\n",
       "      <td>C Shamshuddin</td>\n",
       "      <td>NaN</td>\n",
       "    </tr>\n",
       "  </tbody>\n",
       "</table>\n",
       "</div>"
      ],
      "text/plain": [
       "      id  season    city        date                        team1           team2                  toss_winner toss_decision  result  dl_applied                       winner  win_by_runs  win_by_wickets player_of_match             venue    umpire1        umpire2  umpire3\n",
       "561  562  2015    Mumbai  2015-05-10  Royal Challengers Bangalore  Mumbai Indians  Royal Challengers Bangalore  bat           normal  0           Royal Challengers Bangalore  39           0               AB de Villiers  Wankhede Stadium  JD Cloete  C Shamshuddin NaN     "
      ]
     },
     "execution_count": 4,
     "metadata": {},
     "output_type": "execute_result"
    }
   ],
   "source": [
    "rcb_vs_mi_match = matches[(matches.team1 == 'Royal Challengers Bangalore') & (matches.team2 == 'Mumbai Indians') & (matches.win_by_runs == 39)]\n",
    "rcb_vs_mi_match"
   ]
  },
  {
   "cell_type": "code",
   "execution_count": 5,
   "id": "07457bc4",
   "metadata": {},
   "outputs": [
    {
     "data": {
      "text/plain": [
       "562"
      ]
     },
     "execution_count": 5,
     "metadata": {},
     "output_type": "execute_result"
    }
   ],
   "source": [
    "# Match id = 562\n",
    "rcb_vs_mi_match['id'].item()"
   ]
  },
  {
   "cell_type": "markdown",
   "id": "7b777ec0",
   "metadata": {},
   "source": [
    "# 4. Getting the batsman name in the dataset"
   ]
  },
  {
   "cell_type": "code",
   "execution_count": 6,
   "id": "f9928904",
   "metadata": {
    "scrolled": true
   },
   "outputs": [
    {
     "data": {
      "text/plain": [
       "array(['CH Gayle', 'Mandeep Singh', 'TM Head', 'KM Jadhav', 'SR Watson',\n",
       "       'Sachin Baby', 'STR Binny', 'S Aravind', 'YS Chahal', 'TS Mills',\n",
       "       'A Choudhary', 'Vishnu Vinod', 'Iqbal Abdulla', 'P Negi',\n",
       "       'AB de Villiers', 'V Kohli', 'AF Milne', 'S Badree', 'R Dravid',\n",
       "       'W Jaffer', 'JH Kallis', 'CL White', 'MV Boucher', 'B Akhil',\n",
       "       'AA Noffke', 'P Kumar', 'Z Khan', 'SB Joshi', 'S Chanderpaul',\n",
       "       'LRPL Taylor', 'R Vinay Kumar', 'B Chipli', 'DW Steyn',\n",
       "       'Misbah-ul-Haq', 'DT Patil', 'A Kumble', 'J Arunkumar',\n",
       "       'SP Goswami', 'Abdur Razzak', 'JD Ryder', 'KP Pietersen',\n",
       "       'RV Uthappa', 'R Bishnoi', 'KV Sharma', 'Pankaj Singh',\n",
       "       'RE van der Merwe', 'MK Pandey', 'KP Appanna', 'D du Preez',\n",
       "       'EJG Morgan', 'A Mithun', 'S Sriram', 'MA Agarwal', 'TM Dilshan',\n",
       "       'SS Tiwary', 'AUK Pathan', 'CA Pujara', 'JJ van der Wath',\n",
       "       'R Ninan', 'DL Vettori', 'J Syed Mohammad', 'M Kaif',\n",
       "       'LA Pomersbach', 'KB Arun Karthik', 'CK Langeveldt', 'AB McDonald',\n",
       "       'HV Patel', 'RR Bhatkal', 'M Muralitharan', 'P Parameswaran',\n",
       "       'DT Christian', 'KK Nair', 'MC Henriques', 'M Kartik',\n",
       "       'JD Unadkat', 'R Rampaul', 'KL Rahul', 'A Mukund', 'PA Patel',\n",
       "       'NJ Maddinson', 'Yuvraj Singh', 'YV Takawale', 'JA Morkel',\n",
       "       'S Rana', 'MA Starc', 'AB Dinda', 'VR Aaron', 'RR Rossouw',\n",
       "       'VH Zol', 'AN Ahmed', 'KD Karthik', 'DJG Sammy', 'SA Abbott',\n",
       "       'MS Bisla', 'D Wiese', 'SN Khan', 'KW Richardson', 'Parvez Rasool',\n",
       "       'CJ Jordan'], dtype=object)"
      ]
     },
     "execution_count": 6,
     "metadata": {},
     "output_type": "execute_result"
    }
   ],
   "source": [
    "# Batsman name = AB de Villiers\n",
    "deliveries[deliveries.batting_team == 'Royal Challengers Bangalore'].batsman.unique()"
   ]
  },
  {
   "cell_type": "markdown",
   "id": "f41238e8",
   "metadata": {},
   "source": [
    "# 5. Filtering the data for the particular match"
   ]
  },
  {
   "cell_type": "code",
   "execution_count": 7,
   "id": "b33151fb",
   "metadata": {},
   "outputs": [
    {
     "data": {
      "text/html": [
       "<div>\n",
       "<style scoped>\n",
       "    .dataframe tbody tr th:only-of-type {\n",
       "        vertical-align: middle;\n",
       "    }\n",
       "\n",
       "    .dataframe tbody tr th {\n",
       "        vertical-align: top;\n",
       "    }\n",
       "\n",
       "    .dataframe thead th {\n",
       "        text-align: right;\n",
       "    }\n",
       "</style>\n",
       "<table border=\"1\" class=\"dataframe\">\n",
       "  <thead>\n",
       "    <tr style=\"text-align: right;\">\n",
       "      <th></th>\n",
       "      <th>match_id</th>\n",
       "      <th>inning</th>\n",
       "      <th>batting_team</th>\n",
       "      <th>bowling_team</th>\n",
       "      <th>over</th>\n",
       "      <th>ball</th>\n",
       "      <th>batsman</th>\n",
       "      <th>non_striker</th>\n",
       "      <th>bowler</th>\n",
       "      <th>is_super_over</th>\n",
       "      <th>wide_runs</th>\n",
       "      <th>bye_runs</th>\n",
       "      <th>legbye_runs</th>\n",
       "      <th>noball_runs</th>\n",
       "      <th>penalty_runs</th>\n",
       "      <th>batsman_runs</th>\n",
       "      <th>extra_runs</th>\n",
       "      <th>total_runs</th>\n",
       "      <th>player_dismissed</th>\n",
       "      <th>dismissal_kind</th>\n",
       "      <th>fielder</th>\n",
       "    </tr>\n",
       "  </thead>\n",
       "  <tbody>\n",
       "    <tr>\n",
       "      <th>133100</th>\n",
       "      <td>562</td>\n",
       "      <td>1</td>\n",
       "      <td>Royal Challengers Bangalore</td>\n",
       "      <td>Mumbai Indians</td>\n",
       "      <td>1</td>\n",
       "      <td>1</td>\n",
       "      <td>CH Gayle</td>\n",
       "      <td>V Kohli</td>\n",
       "      <td>MJ McClenaghan</td>\n",
       "      <td>0</td>\n",
       "      <td>0</td>\n",
       "      <td>0</td>\n",
       "      <td>0</td>\n",
       "      <td>0</td>\n",
       "      <td>0</td>\n",
       "      <td>0</td>\n",
       "      <td>0</td>\n",
       "      <td>0</td>\n",
       "      <td>NaN</td>\n",
       "      <td>NaN</td>\n",
       "      <td>NaN</td>\n",
       "    </tr>\n",
       "    <tr>\n",
       "      <th>133101</th>\n",
       "      <td>562</td>\n",
       "      <td>1</td>\n",
       "      <td>Royal Challengers Bangalore</td>\n",
       "      <td>Mumbai Indians</td>\n",
       "      <td>1</td>\n",
       "      <td>2</td>\n",
       "      <td>CH Gayle</td>\n",
       "      <td>V Kohli</td>\n",
       "      <td>MJ McClenaghan</td>\n",
       "      <td>0</td>\n",
       "      <td>0</td>\n",
       "      <td>0</td>\n",
       "      <td>0</td>\n",
       "      <td>0</td>\n",
       "      <td>0</td>\n",
       "      <td>0</td>\n",
       "      <td>0</td>\n",
       "      <td>0</td>\n",
       "      <td>NaN</td>\n",
       "      <td>NaN</td>\n",
       "      <td>NaN</td>\n",
       "    </tr>\n",
       "  </tbody>\n",
       "</table>\n",
       "</div>"
      ],
      "text/plain": [
       "        match_id  inning                 batting_team    bowling_team  over  ball   batsman non_striker          bowler  is_super_over  wide_runs  bye_runs  legbye_runs  noball_runs  penalty_runs  batsman_runs  extra_runs  total_runs player_dismissed dismissal_kind fielder\n",
       "133100  562       1       Royal Challengers Bangalore  Mumbai Indians  1     1     CH Gayle  V Kohli     MJ McClenaghan  0              0          0         0            0            0             0             0           0           NaN              NaN            NaN   \n",
       "133101  562       1       Royal Challengers Bangalore  Mumbai Indians  1     2     CH Gayle  V Kohli     MJ McClenaghan  0              0          0         0            0            0             0             0           0           NaN              NaN            NaN   "
      ]
     },
     "execution_count": 7,
     "metadata": {},
     "output_type": "execute_result"
    }
   ],
   "source": [
    "rcb_vs_mi_deliveries = deliveries[deliveries.match_id == 562]\n",
    "rcb_vs_mi_deliveries.head(2)"
   ]
  },
  {
   "cell_type": "code",
   "execution_count": 8,
   "id": "91e71625",
   "metadata": {},
   "outputs": [
    {
     "data": {
      "text/html": [
       "<div>\n",
       "<style scoped>\n",
       "    .dataframe tbody tr th:only-of-type {\n",
       "        vertical-align: middle;\n",
       "    }\n",
       "\n",
       "    .dataframe tbody tr th {\n",
       "        vertical-align: top;\n",
       "    }\n",
       "\n",
       "    .dataframe thead th {\n",
       "        text-align: right;\n",
       "    }\n",
       "</style>\n",
       "<table border=\"1\" class=\"dataframe\">\n",
       "  <thead>\n",
       "    <tr style=\"text-align: right;\">\n",
       "      <th></th>\n",
       "      <th>match_id</th>\n",
       "      <th>inning</th>\n",
       "      <th>batting_team</th>\n",
       "      <th>bowling_team</th>\n",
       "      <th>over</th>\n",
       "      <th>ball</th>\n",
       "      <th>batsman</th>\n",
       "      <th>non_striker</th>\n",
       "      <th>bowler</th>\n",
       "      <th>is_super_over</th>\n",
       "      <th>wide_runs</th>\n",
       "      <th>bye_runs</th>\n",
       "      <th>legbye_runs</th>\n",
       "      <th>noball_runs</th>\n",
       "      <th>penalty_runs</th>\n",
       "      <th>batsman_runs</th>\n",
       "      <th>extra_runs</th>\n",
       "      <th>total_runs</th>\n",
       "      <th>player_dismissed</th>\n",
       "      <th>dismissal_kind</th>\n",
       "      <th>fielder</th>\n",
       "    </tr>\n",
       "  </thead>\n",
       "  <tbody>\n",
       "    <tr>\n",
       "      <th>133120</th>\n",
       "      <td>562</td>\n",
       "      <td>1</td>\n",
       "      <td>Royal Challengers Bangalore</td>\n",
       "      <td>Mumbai Indians</td>\n",
       "      <td>4</td>\n",
       "      <td>2</td>\n",
       "      <td>AB de Villiers</td>\n",
       "      <td>V Kohli</td>\n",
       "      <td>SL Malinga</td>\n",
       "      <td>0</td>\n",
       "      <td>0</td>\n",
       "      <td>0</td>\n",
       "      <td>0</td>\n",
       "      <td>0</td>\n",
       "      <td>0</td>\n",
       "      <td>0</td>\n",
       "      <td>0</td>\n",
       "      <td>0</td>\n",
       "      <td>NaN</td>\n",
       "      <td>NaN</td>\n",
       "      <td>NaN</td>\n",
       "    </tr>\n",
       "    <tr>\n",
       "      <th>133121</th>\n",
       "      <td>562</td>\n",
       "      <td>1</td>\n",
       "      <td>Royal Challengers Bangalore</td>\n",
       "      <td>Mumbai Indians</td>\n",
       "      <td>4</td>\n",
       "      <td>3</td>\n",
       "      <td>AB de Villiers</td>\n",
       "      <td>V Kohli</td>\n",
       "      <td>SL Malinga</td>\n",
       "      <td>0</td>\n",
       "      <td>0</td>\n",
       "      <td>0</td>\n",
       "      <td>0</td>\n",
       "      <td>0</td>\n",
       "      <td>0</td>\n",
       "      <td>0</td>\n",
       "      <td>0</td>\n",
       "      <td>0</td>\n",
       "      <td>NaN</td>\n",
       "      <td>NaN</td>\n",
       "      <td>NaN</td>\n",
       "    </tr>\n",
       "  </tbody>\n",
       "</table>\n",
       "</div>"
      ],
      "text/plain": [
       "        match_id  inning                 batting_team    bowling_team  over  ball         batsman non_striker      bowler  is_super_over  wide_runs  bye_runs  legbye_runs  noball_runs  penalty_runs  batsman_runs  extra_runs  total_runs player_dismissed dismissal_kind fielder\n",
       "133120  562       1       Royal Challengers Bangalore  Mumbai Indians  4     2     AB de Villiers  V Kohli     SL Malinga  0              0          0         0            0            0             0             0           0           NaN              NaN            NaN   \n",
       "133121  562       1       Royal Challengers Bangalore  Mumbai Indians  4     3     AB de Villiers  V Kohli     SL Malinga  0              0          0         0            0            0             0             0           0           NaN              NaN            NaN   "
      ]
     },
     "execution_count": 8,
     "metadata": {},
     "output_type": "execute_result"
    }
   ],
   "source": [
    "abd_innings = rcb_vs_mi_deliveries[rcb_vs_mi_deliveries.batsman == 'AB de Villiers']\n",
    "abd_innings.head(2)"
   ]
  },
  {
   "cell_type": "code",
   "execution_count": 9,
   "id": "47c71c64",
   "metadata": {},
   "outputs": [
    {
     "data": {
      "text/plain": [
       "match_id\n",
       "562    133\n",
       "Name: batsman_runs, dtype: int64"
      ]
     },
     "execution_count": 9,
     "metadata": {},
     "output_type": "execute_result"
    }
   ],
   "source": [
    "# Verification - ABD had indeed scored 133 runs in this match\n",
    "abd_innings.groupby('match_id').sum()['batsman_runs']"
   ]
  },
  {
   "cell_type": "markdown",
   "id": "d930aab1",
   "metadata": {},
   "source": [
    "# 6. Getting the required data for dashboarding"
   ]
  },
  {
   "cell_type": "code",
   "execution_count": 10,
   "id": "ddeade21",
   "metadata": {
    "scrolled": true
   },
   "outputs": [],
   "source": [
    "required_columns = ['over', 'ball', 'batsman', 'bowler', 'batsman_runs']\n",
    "\n",
    "abd_innings = abd_innings[required_columns]\n",
    "abd_innings.reset_index(inplace=True, drop=True)"
   ]
  },
  {
   "cell_type": "markdown",
   "id": "cb7af0db",
   "metadata": {},
   "source": [
    "## 6.1 Getting the phase of play"
   ]
  },
  {
   "cell_type": "code",
   "execution_count": 11,
   "id": "4b521815",
   "metadata": {},
   "outputs": [],
   "source": [
    "# 1st over should have over no. as 0 and not 1\n",
    "abd_innings['over_no'] = abd_innings['over'].apply(lambda x: x - 1)"
   ]
  },
  {
   "cell_type": "code",
   "execution_count": 12,
   "id": "1aac6105",
   "metadata": {},
   "outputs": [],
   "source": [
    "def get_phase(over_no):\n",
    "    # Powerplay: 0.1 - 5.6\n",
    "    if over_no < 6:\n",
    "        return 'Powerplay'\n",
    "    # Middle overs: 6.1 - 15.6\n",
    "    elif over_no < 16:\n",
    "        return 'Middle'\n",
    "    # Death overs: 16.1 - 19.6\n",
    "    else:\n",
    "        return 'Death'"
   ]
  },
  {
   "cell_type": "code",
   "execution_count": 13,
   "id": "0b5b9ac3",
   "metadata": {},
   "outputs": [],
   "source": [
    "abd_innings['phase'] = abd_innings['over_no'].apply(lambda x: get_phase(x))"
   ]
  },
  {
   "cell_type": "markdown",
   "id": "082cd55a",
   "metadata": {},
   "source": [
    "## 6.2 Column cleanup"
   ]
  },
  {
   "cell_type": "code",
   "execution_count": 14,
   "id": "dafdbcf1",
   "metadata": {},
   "outputs": [],
   "source": [
    "abd_innings.drop('over', axis=1, inplace=True)"
   ]
  },
  {
   "cell_type": "code",
   "execution_count": 15,
   "id": "45397985",
   "metadata": {},
   "outputs": [],
   "source": [
    "abd_innings.rename(columns = {'batsman_runs': 'runs'}, inplace = True)"
   ]
  },
  {
   "cell_type": "code",
   "execution_count": 16,
   "id": "4c9d3fbd",
   "metadata": {},
   "outputs": [
    {
     "data": {
      "text/html": [
       "<div>\n",
       "<style scoped>\n",
       "    .dataframe tbody tr th:only-of-type {\n",
       "        vertical-align: middle;\n",
       "    }\n",
       "\n",
       "    .dataframe tbody tr th {\n",
       "        vertical-align: top;\n",
       "    }\n",
       "\n",
       "    .dataframe thead th {\n",
       "        text-align: right;\n",
       "    }\n",
       "</style>\n",
       "<table border=\"1\" class=\"dataframe\">\n",
       "  <thead>\n",
       "    <tr style=\"text-align: right;\">\n",
       "      <th></th>\n",
       "      <th>over_no</th>\n",
       "      <th>ball</th>\n",
       "      <th>phase</th>\n",
       "      <th>batsman</th>\n",
       "      <th>bowler</th>\n",
       "      <th>runs</th>\n",
       "    </tr>\n",
       "  </thead>\n",
       "  <tbody>\n",
       "    <tr>\n",
       "      <th>0</th>\n",
       "      <td>3</td>\n",
       "      <td>2</td>\n",
       "      <td>Powerplay</td>\n",
       "      <td>AB de Villiers</td>\n",
       "      <td>SL Malinga</td>\n",
       "      <td>0</td>\n",
       "    </tr>\n",
       "    <tr>\n",
       "      <th>1</th>\n",
       "      <td>3</td>\n",
       "      <td>3</td>\n",
       "      <td>Powerplay</td>\n",
       "      <td>AB de Villiers</td>\n",
       "      <td>SL Malinga</td>\n",
       "      <td>0</td>\n",
       "    </tr>\n",
       "  </tbody>\n",
       "</table>\n",
       "</div>"
      ],
      "text/plain": [
       "   over_no  ball      phase         batsman      bowler  runs\n",
       "0  3        2     Powerplay  AB de Villiers  SL Malinga  0   \n",
       "1  3        3     Powerplay  AB de Villiers  SL Malinga  0   "
      ]
     },
     "execution_count": 16,
     "metadata": {},
     "output_type": "execute_result"
    }
   ],
   "source": [
    "cols = ['over_no', 'ball', 'phase', 'batsman', 'bowler', 'runs']\n",
    "abd_innings = abd_innings[cols]\n",
    "abd_innings.head(2)"
   ]
  },
  {
   "cell_type": "markdown",
   "id": "3989d8bf",
   "metadata": {},
   "source": [
    "# 7. Getting the wagon wheel data\n",
    "[ABD Wagon Wheel](https://www.espncricinfo.com/series/pepsi-indian-premier-league-2015-791129/mumbai-indians-vs-royal-challengers-bangalore-46th-match-829795/match-statistics)"
   ]
  },
  {
   "cell_type": "code",
   "execution_count": 17,
   "id": "dbb4b6e4",
   "metadata": {},
   "outputs": [],
   "source": [
    "data = {\n",
    "    'Score Area': ['Third man', 'Point', 'Cover', 'Long off', 'Long on', 'Mid wicket', 'Square leg', 'Fine leg'],\n",
    "    'Percentage': [3/133, 8/133, 28/133, 12/133, 26/133, 37/133, 13/133, 6/133],\n",
    "    'Runs': [3, 8, 28, 12, 26, 37, 13, 6],\n",
    "    'Wagon': list(range(1, 9))\n",
    "}"
   ]
  },
  {
   "cell_type": "code",
   "execution_count": 18,
   "id": "d7f43a55",
   "metadata": {
    "scrolled": true
   },
   "outputs": [
    {
     "data": {
      "text/html": [
       "<div>\n",
       "<style scoped>\n",
       "    .dataframe tbody tr th:only-of-type {\n",
       "        vertical-align: middle;\n",
       "    }\n",
       "\n",
       "    .dataframe tbody tr th {\n",
       "        vertical-align: top;\n",
       "    }\n",
       "\n",
       "    .dataframe thead th {\n",
       "        text-align: right;\n",
       "    }\n",
       "</style>\n",
       "<table border=\"1\" class=\"dataframe\">\n",
       "  <thead>\n",
       "    <tr style=\"text-align: right;\">\n",
       "      <th></th>\n",
       "      <th>Score Area</th>\n",
       "      <th>Percentage</th>\n",
       "      <th>Runs</th>\n",
       "      <th>Wagon</th>\n",
       "    </tr>\n",
       "  </thead>\n",
       "  <tbody>\n",
       "    <tr>\n",
       "      <th>0</th>\n",
       "      <td>Third man</td>\n",
       "      <td>0.02</td>\n",
       "      <td>3</td>\n",
       "      <td>1</td>\n",
       "    </tr>\n",
       "    <tr>\n",
       "      <th>1</th>\n",
       "      <td>Point</td>\n",
       "      <td>0.06</td>\n",
       "      <td>8</td>\n",
       "      <td>2</td>\n",
       "    </tr>\n",
       "    <tr>\n",
       "      <th>2</th>\n",
       "      <td>Cover</td>\n",
       "      <td>0.21</td>\n",
       "      <td>28</td>\n",
       "      <td>3</td>\n",
       "    </tr>\n",
       "    <tr>\n",
       "      <th>3</th>\n",
       "      <td>Long off</td>\n",
       "      <td>0.09</td>\n",
       "      <td>12</td>\n",
       "      <td>4</td>\n",
       "    </tr>\n",
       "    <tr>\n",
       "      <th>4</th>\n",
       "      <td>Long on</td>\n",
       "      <td>0.20</td>\n",
       "      <td>26</td>\n",
       "      <td>5</td>\n",
       "    </tr>\n",
       "    <tr>\n",
       "      <th>5</th>\n",
       "      <td>Mid wicket</td>\n",
       "      <td>0.28</td>\n",
       "      <td>37</td>\n",
       "      <td>6</td>\n",
       "    </tr>\n",
       "    <tr>\n",
       "      <th>6</th>\n",
       "      <td>Square leg</td>\n",
       "      <td>0.10</td>\n",
       "      <td>13</td>\n",
       "      <td>7</td>\n",
       "    </tr>\n",
       "    <tr>\n",
       "      <th>7</th>\n",
       "      <td>Fine leg</td>\n",
       "      <td>0.05</td>\n",
       "      <td>6</td>\n",
       "      <td>8</td>\n",
       "    </tr>\n",
       "  </tbody>\n",
       "</table>\n",
       "</div>"
      ],
      "text/plain": [
       "   Score Area  Percentage  Runs  Wagon\n",
       "0  Third man   0.02        3     1    \n",
       "1  Point       0.06        8     2    \n",
       "2  Cover       0.21        28    3    \n",
       "3  Long off    0.09        12    4    \n",
       "4  Long on     0.20        26    5    \n",
       "5  Mid wicket  0.28        37    6    \n",
       "6  Square leg  0.10        13    7    \n",
       "7  Fine leg    0.05        6     8    "
      ]
     },
     "execution_count": 18,
     "metadata": {},
     "output_type": "execute_result"
    }
   ],
   "source": [
    "wagon_wheel = pd.DataFrame(data)\n",
    "wagon_wheel['Percentage'] = wagon_wheel['Percentage'].astype(float).round(2)\n",
    "wagon_wheel"
   ]
  },
  {
   "cell_type": "markdown",
   "id": "568361d6",
   "metadata": {},
   "source": [
    "# 8. Exporting the data"
   ]
  },
  {
   "cell_type": "code",
   "execution_count": 19,
   "id": "e34bbe0a",
   "metadata": {},
   "outputs": [],
   "source": [
    "with pd.ExcelWriter('C:/Users/neera/Mad About Sports/Advanced Cricket Analytics Masterclass/Datasets/abd_innings.xlsx') as writer:\n",
    "    abd_innings.to_excel(writer, sheet_name='ABD Innings', index=False)\n",
    "    wagon_wheel.to_excel(writer, sheet_name='Wagon Wheel', index=False)"
   ]
  },
  {
   "cell_type": "code",
   "execution_count": null,
   "id": "e5949463",
   "metadata": {},
   "outputs": [],
   "source": []
  }
 ],
 "metadata": {
  "kernelspec": {
   "display_name": "Python 3",
   "language": "python",
   "name": "python3"
  },
  "language_info": {
   "codemirror_mode": {
    "name": "ipython",
    "version": 3
   },
   "file_extension": ".py",
   "mimetype": "text/x-python",
   "name": "python",
   "nbconvert_exporter": "python",
   "pygments_lexer": "ipython3",
   "version": "3.8.8"
  }
 },
 "nbformat": 4,
 "nbformat_minor": 5
}
